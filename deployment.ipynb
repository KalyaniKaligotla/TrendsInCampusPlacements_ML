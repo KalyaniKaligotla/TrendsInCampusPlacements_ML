{
 "cells": [
  {
   "cell_type": "code",
   "execution_count": null,
   "id": "c9a046c2",
   "metadata": {},
   "outputs": [
    {
     "name": "stdout",
     "output_type": "stream",
     "text": [
      "Server started on port 8000\n"
     ]
    },
    {
     "name": "stderr",
     "output_type": "stream",
     "text": [
      "127.0.0.1 - - [06/Aug/2023 18:46:35] \"GET / HTTP/1.1\" 200 -\n"
     ]
    }
   ],
   "source": [
    "import joblib\n",
    "import numpy as np\n",
    "from http.server import BaseHTTPRequestHandler, HTTPServer\n",
    "\n",
    "# Load the trained machine learning model\n",
    "model = joblib.load('finalized_model.sav')\n",
    "\n",
    "class MyHandler(BaseHTTPRequestHandler):\n",
    "    def do_GET(self):\n",
    "        if self.path == '/':\n",
    "            self.send_response(200)\n",
    "            self.send_header('Content-type', 'text/html')\n",
    "            self.end_headers()\n",
    "            \n",
    "            with open('index.html', 'rb') as file:\n",
    "                self.wfile.write(file.read())\n",
    "    \n",
    "    def do_POST(self):\n",
    "        if self.path == '/':\n",
    "            content_length = int(self.headers['Content-Length'])\n",
    "            post_data = self.rfile.read(content_length).decode('utf-8')\n",
    "            \n",
    "            # Extract and preprocess feature data from form submission\n",
    "            gender = post_data.split('&')[0].split('=')[1]\n",
    "            ssc_p = float(post_data.split('&')[1].split('=')[1])\n",
    "            hsc_p = float(post_data.split('&')[2].split('=')[1])\n",
    "            degree_p = float(post_data.split('&')[3].split('=')[1])\n",
    "            workex = post_data.split('&')[4].split('=')[1]\n",
    "            etest_p = float(post_data.split('&')[5].split('=')[1])\n",
    "            specialisation = post_data.split('&')[6].split('=')[1]\n",
    "            mba_p = float(post_data.split('&')[7].split('=')[1])\n",
    "            hsc_s = post_data.split('&')[8].split('=')[1]\n",
    "            degree_s = post_data.split('&')[9].split('=')[1]\n",
    "           \n",
    "            \n",
    "            # Convert categorical features to binary values\n",
    "            gender = 1 if gender == 'Male' else 0\n",
    "            workex = 1 if workex == 'Yes' else 0\n",
    "            specialisation = 1 if specialisation == 'Mkt&HR' else 0\n",
    "            Arts = 0\n",
    "            Science = 0\n",
    "            Commerce = 0\n",
    "            Sci_Tech = 0\n",
    "            Comm_Mgmt = 0\n",
    "            Others = 0\n",
    "            if hsc_s == 'Arts':\n",
    "                Arts = 1\n",
    "                Science = 0\n",
    "                Commerce = 0\n",
    "            elif hsc_s == 'Science':\n",
    "                Arts = 0\n",
    "                Science = 1\n",
    "                Commerce = 0\n",
    "            elif hsc_s == 'Commerce':\n",
    "                Arts = 0\n",
    "                Science = 0\n",
    "                Commerce = 1\n",
    "            \n",
    "            if degree_s == 'Science & Tech':\n",
    "                Sci_Tech = 1\n",
    "                Comm_Mgmt = 0\n",
    "                Others = 0\n",
    "            elif degree_s == 'Comm & Mngmt':\n",
    "                Sci_Tech = 0\n",
    "                Comm_Mgmt = 1\n",
    "                Others = 0\n",
    "            # Create input data for prediction\n",
    "            input_data = np.array([[gender, ssc_p, hsc_p, degree_p, workex, etest_p, specialisation,\n",
    "                                    mba_p, Arts, Commerce, Science, Comm_Mgmt, Others, Sci_Tech]])\n",
    "            \n",
    "            # Make a prediction using the model\n",
    "            prediction = model.predict(input_data)\n",
    "            \n",
    "            # Format the prediction result\n",
    "            result = \"Placed\" if prediction == 1 else \"Not Placed\"\n",
    "            \n",
    "            # Return the HTML response\n",
    "            self.send_response(200)\n",
    "            self.send_header('Content-type', 'text/html')\n",
    "            self.end_headers()\n",
    "            response = f\"<p>Prediction Result: {result}</p>\".encode('utf-8')\n",
    "            self.wfile.write(response)\n",
    "\n",
    "# Create a simple HTTP server\n",
    "with HTTPServer((\"localhost\", 8000), MyHandler) as httpd:\n",
    "    print(\"Server started on port 8000\")\n",
    "    try:\n",
    "        httpd.serve_forever()\n",
    "    except KeyboardInterrupt:\n",
    "        httpd.server_close()\n",
    "        print(\"Server stopped\")\n"
   ]
  },
  {
   "cell_type": "code",
   "execution_count": null,
   "id": "3c018919",
   "metadata": {},
   "outputs": [],
   "source": []
  },
  {
   "cell_type": "code",
   "execution_count": null,
   "id": "4e78d4f5",
   "metadata": {},
   "outputs": [],
   "source": []
  }
 ],
 "metadata": {
  "kernelspec": {
   "display_name": "Python 3 (ipykernel)",
   "language": "python",
   "name": "python3"
  },
  "language_info": {
   "codemirror_mode": {
    "name": "ipython",
    "version": 3
   },
   "file_extension": ".py",
   "mimetype": "text/x-python",
   "name": "python",
   "nbconvert_exporter": "python",
   "pygments_lexer": "ipython3",
   "version": "3.9.7"
  }
 },
 "nbformat": 4,
 "nbformat_minor": 5
}
